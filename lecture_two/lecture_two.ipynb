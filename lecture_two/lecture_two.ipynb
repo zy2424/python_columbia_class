{
 "cells": [
  {
   "cell_type": "markdown",
   "metadata": {},
   "source": [
    "# Lecture Two\n",
    "\n",
    "Python basics - iteration and data structures \n",
    "* while loops, \n",
    "* lists,\n",
    "* for loops, \n",
    "* dictionaries, \n",
    "* sets."
   ]
  },
  {
   "cell_type": "code",
   "execution_count": 1,
   "metadata": {},
   "outputs": [
    {
     "name": "stdout",
     "output_type": "stream",
     "text": [
      "got here\n"
     ]
    }
   ],
   "source": [
    "if True:\n",
    "    print(\"got here\")\n",
    "else:\n",
    "    print(\"something went wrong\")"
   ]
  },
  {
   "cell_type": "code",
   "execution_count": 43,
   "metadata": {},
   "outputs": [
    {
     "name": "stdout",
     "output_type": "stream",
     "text": [
      "got here\n"
     ]
    },
    {
     "ename": "NameError",
     "evalue": "name 'y' is not defined",
     "output_type": "error",
     "traceback": [
      "\u001b[0;31m---------------------------------------------------------------------------\u001b[0m",
      "\u001b[0;31mNameError\u001b[0m                                 Traceback (most recent call last)",
      "\u001b[0;32m<ipython-input-43-cd5f656438ce>\u001b[0m in \u001b[0;36m<module>\u001b[0;34m\u001b[0m\n\u001b[1;32m      5\u001b[0m     \u001b[0mprint\u001b[0m\u001b[0;34m(\u001b[0m\u001b[0;34m\"something went wrong\"\u001b[0m\u001b[0;34m)\u001b[0m\u001b[0;34m\u001b[0m\u001b[0;34m\u001b[0m\u001b[0m\n\u001b[1;32m      6\u001b[0m \u001b[0;34m\u001b[0m\u001b[0m\n\u001b[0;32m----> 7\u001b[0;31m \u001b[0mprint\u001b[0m\u001b[0;34m(\u001b[0m\u001b[0my\u001b[0m\u001b[0;34m)\u001b[0m\u001b[0;34m\u001b[0m\u001b[0;34m\u001b[0m\u001b[0m\n\u001b[0m",
      "\u001b[0;31mNameError\u001b[0m: name 'y' is not defined"
     ]
    }
   ],
   "source": [
    "if 5 == 5:\n",
    "    print(\"got here\")\n",
    "else:\n",
    "    y = 0\n",
    "    print(\"something went wrong\")\n",
    "    \n",
    "print(y)"
   ]
  },
  {
   "cell_type": "code",
   "execution_count": 7,
   "metadata": {},
   "outputs": [],
   "source": [
    "x = 0"
   ]
  },
  {
   "cell_type": "code",
   "execution_count": 18,
   "metadata": {},
   "outputs": [
    {
     "name": "stdout",
     "output_type": "stream",
     "text": [
      "we are done\n"
     ]
    }
   ],
   "source": [
    "if x == 10:\n",
    "    print(\"we are done\")\n",
    "else:\n",
    "    x += 1\n",
    "    print(\"the value of x is currently\", x)"
   ]
  },
  {
   "cell_type": "code",
   "execution_count": 19,
   "metadata": {},
   "outputs": [],
   "source": [
    "x = 0 "
   ]
  },
  {
   "cell_type": "code",
   "execution_count": 35,
   "metadata": {},
   "outputs": [
    {
     "name": "stdout",
     "output_type": "stream",
     "text": [
      "we are done\n"
     ]
    }
   ],
   "source": [
    "if x >= 10:\n",
    "    print(\"we are done\")\n",
    "else:\n",
    "    x += 1\n",
    "    print(\"the value of x is currently\", x)"
   ]
  },
  {
   "cell_type": "code",
   "execution_count": 36,
   "metadata": {},
   "outputs": [
    {
     "name": "stdout",
     "output_type": "stream",
     "text": [
      "the value of x is currently 1\n",
      "the value of x is currently 2\n",
      "the value of x is currently 3\n",
      "the value of x is currently 4\n",
      "the value of x is currently 5\n",
      "the value of x is currently 6\n",
      "the value of x is currently 7\n",
      "the value of x is currently 8\n",
      "the value of x is currently 9\n",
      "the value of x is currently 10\n",
      "we are done\n",
      "we are done\n"
     ]
    }
   ],
   "source": [
    "x = 0 \n",
    "if x >= 10:\n",
    "    print(\"we are done\")\n",
    "else:\n",
    "    x += 1\n",
    "    print(\"the value of x is currently\", x)\n",
    "if x >= 10:\n",
    "    print(\"we are done\")\n",
    "else:\n",
    "    x += 1\n",
    "    print(\"the value of x is currently\", x)\n",
    "if x >= 10:\n",
    "    print(\"we are done\")\n",
    "else:\n",
    "    x += 1\n",
    "    print(\"the value of x is currently\", x)\n",
    "if x >= 10:\n",
    "    print(\"we are done\")\n",
    "else:\n",
    "    x += 1\n",
    "    print(\"the value of x is currently\", x)\n",
    "if x >= 10:\n",
    "    print(\"we are done\")\n",
    "else:\n",
    "    x += 1\n",
    "    print(\"the value of x is currently\", x)\n",
    "if x >= 10:\n",
    "    print(\"we are done\")\n",
    "else:\n",
    "    x += 1\n",
    "    print(\"the value of x is currently\", x)\n",
    "if x >= 10:\n",
    "    print(\"we are done\")\n",
    "else:\n",
    "    x += 1\n",
    "    print(\"the value of x is currently\", x)\n",
    "if x >= 10:\n",
    "    print(\"we are done\")\n",
    "else:\n",
    "    x += 1\n",
    "    print(\"the value of x is currently\", x)\n",
    "if x >= 10:\n",
    "    print(\"we are done\")\n",
    "else:\n",
    "    x += 1\n",
    "    print(\"the value of x is currently\", x)\n",
    "if x >= 10:\n",
    "    print(\"we are done\")\n",
    "else:\n",
    "    x += 1\n",
    "    print(\"the value of x is currently\", x)\n",
    "if x >= 10:\n",
    "    print(\"we are done\")\n",
    "else:\n",
    "    x += 1\n",
    "    print(\"the value of x is currently\", x)\n",
    "if x >= 10:\n",
    "    print(\"we are done\")\n",
    "else:\n",
    "    x += 1\n",
    "    print(\"the value of x is currently\", x)"
   ]
  },
  {
   "cell_type": "code",
   "execution_count": 40,
   "metadata": {},
   "outputs": [
    {
     "name": "stdout",
     "output_type": "stream",
     "text": [
      "the value of x is currently 1\n",
      "the value of x is currently 2\n",
      "the value of x is currently 3\n",
      "the value of x is currently 4\n",
      "the value of x is currently 5\n",
      "the value of x is currently 6\n",
      "the value of x is currently 7\n",
      "the value of x is currently 8\n",
      "the value of x is currently 9\n",
      "the value of x is currently 10\n",
      "we are done\n"
     ]
    }
   ],
   "source": [
    "x = 0 \n",
    "if x < 10:\n",
    "    x += 1\n",
    "    print(\"the value of x is currently\", x)\n",
    "else:\n",
    "    print(\"we are done\")\n",
    "if x < 10:\n",
    "    x += 1\n",
    "    print(\"the value of x is currently\", x)\n",
    "else:\n",
    "    print(\"we are done\")\n",
    "if x < 10:\n",
    "    x += 1\n",
    "    print(\"the value of x is currently\", x)\n",
    "else:\n",
    "    print(\"we are done\")\n",
    "if x < 10:\n",
    "    x += 1\n",
    "    print(\"the value of x is currently\", x)\n",
    "else:\n",
    "    print(\"we are done\")\n",
    "if x < 10:\n",
    "    x += 1\n",
    "    print(\"the value of x is currently\", x)\n",
    "else:\n",
    "    print(\"we are done\")\n",
    "if x < 10:\n",
    "    x += 1\n",
    "    print(\"the value of x is currently\", x)\n",
    "else:\n",
    "    print(\"we are done\")\n",
    "if x < 10:\n",
    "    x += 1\n",
    "    print(\"the value of x is currently\", x)\n",
    "else:\n",
    "    print(\"we are done\")\n",
    "if x < 10:\n",
    "    x += 1\n",
    "    print(\"the value of x is currently\", x)\n",
    "else:\n",
    "    print(\"we are done\")\n",
    "if x < 10:\n",
    "    x += 1\n",
    "    print(\"the value of x is currently\", x)\n",
    "else:\n",
    "    print(\"we are done\")\n",
    "if x < 10:\n",
    "    x += 1\n",
    "    print(\"the value of x is currently\", x)\n",
    "else:\n",
    "    print(\"we are done\")\n",
    "if x < 10:\n",
    "    x += 1\n",
    "    print(\"the value of x is currently\", x)\n",
    "else: \n",
    "    print(\"we are done\")"
   ]
  },
  {
   "cell_type": "code",
   "execution_count": 41,
   "metadata": {},
   "outputs": [
    {
     "name": "stdout",
     "output_type": "stream",
     "text": [
      "the value of x is currently 1\n",
      "the value of x is currently 2\n",
      "the value of x is currently 3\n",
      "the value of x is currently 4\n",
      "the value of x is currently 5\n",
      "the value of x is currently 6\n",
      "the value of x is currently 7\n",
      "the value of x is currently 8\n",
      "the value of x is currently 9\n",
      "the value of x is currently 10\n",
      "we are done\n"
     ]
    }
   ],
   "source": [
    "x = 0\n",
    "while x < 10: # true means, \"yes let's go to local scope\"\n",
    "    x += 1 # execute this\n",
    "    print(\"the value of x is currently\", x)\n",
    "    # go back up to the top and ask the question again\n",
    "print(\"we are done\")"
   ]
  },
  {
   "cell_type": "code",
   "execution_count": 38,
   "metadata": {},
   "outputs": [
    {
     "data": {
      "text/plain": [
       "10"
      ]
     },
     "execution_count": 38,
     "metadata": {},
     "output_type": "execute_result"
    }
   ],
   "source": [
    "x"
   ]
  },
  {
   "cell_type": "markdown",
   "metadata": {},
   "source": [
    "Syntax:\n",
    "\n",
    "statement:\n",
    "    tab'ed in thing goes here."
   ]
  },
  {
   "cell_type": "code",
   "execution_count": 50,
   "metadata": {},
   "outputs": [
    {
     "name": "stdout",
     "output_type": "stream",
     "text": [
      "z 0\n",
      "x 0\n"
     ]
    }
   ],
   "source": [
    "x = 0\n",
    "if 5 != 5:\n",
    "    x = x + 1\n",
    "else:\n",
    "    z = 0\n",
    "    print(\"z\", z)\n",
    "print(\"x\", x)"
   ]
  },
  {
   "cell_type": "code",
   "execution_count": 54,
   "metadata": {},
   "outputs": [
    {
     "name": "stdout",
     "output_type": "stream",
     "text": [
      "1 power of 2 is 2\n",
      "2 power of 2 is 4\n",
      "3 power of 2 is 8\n",
      "4 power of 2 is 16\n",
      "5 power of 2 is 32\n",
      "6 power of 2 is 64\n",
      "7 power of 2 is 128\n",
      "8 power of 2 is 256\n",
      "9 power of 2 is 512\n",
      "10 power of 2 is 1024\n"
     ]
    }
   ],
   "source": [
    "counter = 0\n",
    "value = 1\n",
    "while counter < 10:\n",
    "    counter += 1\n",
    "    value = 2 ** counter\n",
    "    print(counter, \"power of 2 is\", value)"
   ]
  },
  {
   "cell_type": "code",
   "execution_count": 56,
   "metadata": {},
   "outputs": [
    {
     "name": "stdout",
     "output_type": "stream",
     "text": [
      "171792506910670443678820376588540424234035840667\n"
     ]
    }
   ],
   "source": [
    "counter = 100\n",
    "value = 1\n",
    "while counter > 1:\n",
    "    counter -= 1\n",
    "    value *= 3\n",
    "print(value)"
   ]
  },
  {
   "cell_type": "code",
   "execution_count": null,
   "metadata": {},
   "outputs": [],
   "source": [
    "# infinite loop\n",
    "counter = 2\n",
    "value = 1\n",
    "while counter > 1:\n",
    "    counter += 1\n",
    "    value *= 3\n",
    "print(value)"
   ]
  },
  {
   "cell_type": "code",
   "execution_count": 57,
   "metadata": {},
   "outputs": [
    {
     "name": "stdout",
     "output_type": "stream",
     "text": [
      "1\n"
     ]
    }
   ],
   "source": [
    "# never gets started\n",
    "counter = 2\n",
    "value = 1\n",
    "while counter < 1:\n",
    "    counter += 1\n",
    "    value *= 3\n",
    "print(value)"
   ]
  },
  {
   "cell_type": "markdown",
   "metadata": {},
   "source": [
    "# Lists"
   ]
  },
  {
   "cell_type": "code",
   "execution_count": 58,
   "metadata": {},
   "outputs": [],
   "source": [
    "listing = [0,1,2]"
   ]
  },
  {
   "cell_type": "code",
   "execution_count": 59,
   "metadata": {},
   "outputs": [
    {
     "data": {
      "text/plain": [
       "[0, 1, 2]"
      ]
     },
     "execution_count": 59,
     "metadata": {},
     "output_type": "execute_result"
    }
   ],
   "source": [
    "listing"
   ]
  },
  {
   "cell_type": "code",
   "execution_count": 60,
   "metadata": {},
   "outputs": [
    {
     "data": {
      "text/plain": [
       "0"
      ]
     },
     "execution_count": 60,
     "metadata": {},
     "output_type": "execute_result"
    }
   ],
   "source": [
    "# get the first element\n",
    "listing[0]"
   ]
  },
  {
   "cell_type": "code",
   "execution_count": 61,
   "metadata": {},
   "outputs": [
    {
     "data": {
      "text/plain": [
       "2"
      ]
     },
     "execution_count": 61,
     "metadata": {},
     "output_type": "execute_result"
    }
   ],
   "source": [
    "length_of_list = len(listing) - 1\n",
    "listing[length_of_list]"
   ]
  },
  {
   "cell_type": "code",
   "execution_count": 62,
   "metadata": {},
   "outputs": [
    {
     "data": {
      "text/plain": [
       "2"
      ]
     },
     "execution_count": 62,
     "metadata": {},
     "output_type": "execute_result"
    }
   ],
   "source": [
    "listing[-1]"
   ]
  },
  {
   "cell_type": "code",
   "execution_count": 63,
   "metadata": {},
   "outputs": [
    {
     "data": {
      "text/plain": [
       "1"
      ]
     },
     "execution_count": 63,
     "metadata": {},
     "output_type": "execute_result"
    }
   ],
   "source": [
    "length_of_list = len(listing) - 2\n",
    "listing[length_of_list]"
   ]
  },
  {
   "cell_type": "code",
   "execution_count": 64,
   "metadata": {},
   "outputs": [
    {
     "data": {
      "text/plain": [
       "1"
      ]
     },
     "execution_count": 64,
     "metadata": {},
     "output_type": "execute_result"
    }
   ],
   "source": [
    "listing[-2]"
   ]
  },
  {
   "cell_type": "code",
   "execution_count": 65,
   "metadata": {},
   "outputs": [
    {
     "data": {
      "text/plain": [
       "0"
      ]
     },
     "execution_count": 65,
     "metadata": {},
     "output_type": "execute_result"
    }
   ],
   "source": [
    "length_of_list = len(listing) - 3\n",
    "listing[length_of_list]"
   ]
  },
  {
   "cell_type": "code",
   "execution_count": 66,
   "metadata": {},
   "outputs": [
    {
     "data": {
      "text/plain": [
       "0"
      ]
     },
     "execution_count": 66,
     "metadata": {},
     "output_type": "execute_result"
    }
   ],
   "source": [
    "listing[-3]"
   ]
  },
  {
   "cell_type": "code",
   "execution_count": 68,
   "metadata": {},
   "outputs": [
    {
     "data": {
      "text/plain": [
       "1"
      ]
     },
     "execution_count": 68,
     "metadata": {},
     "output_type": "execute_result"
    }
   ],
   "source": [
    "listing[1]"
   ]
  },
  {
   "cell_type": "code",
   "execution_count": 69,
   "metadata": {},
   "outputs": [
    {
     "data": {
      "text/plain": [
       "2"
      ]
     },
     "execution_count": 69,
     "metadata": {},
     "output_type": "execute_result"
    }
   ],
   "source": [
    "listing[2]"
   ]
  },
  {
   "cell_type": "markdown",
   "metadata": {},
   "source": [
    "Lists are \"indexed\" by the natural numbers.  Starting at 0.\n",
    "\n",
    "An index is a way of keeping track of things as they appear in an object or system.\n",
    "\n",
    "Where an object is just a generic name for anything specific.  Aka, a list is an example of an object.  So it's like an object of thought."
   ]
  },
  {
   "cell_type": "code",
   "execution_count": 70,
   "metadata": {},
   "outputs": [
    {
     "data": {
      "text/plain": [
       "5"
      ]
     },
     "execution_count": 70,
     "metadata": {},
     "output_type": "execute_result"
    }
   ],
   "source": [
    "new_list = [5,4,2]\n",
    "\n",
    "new_list[0]"
   ]
  },
  {
   "cell_type": "code",
   "execution_count": 71,
   "metadata": {},
   "outputs": [
    {
     "data": {
      "text/plain": [
       "2"
      ]
     },
     "execution_count": 71,
     "metadata": {},
     "output_type": "execute_result"
    }
   ],
   "source": [
    "new_list[-1]"
   ]
  },
  {
   "cell_type": "code",
   "execution_count": 72,
   "metadata": {},
   "outputs": [
    {
     "data": {
      "text/plain": [
       "4"
      ]
     },
     "execution_count": 72,
     "metadata": {},
     "output_type": "execute_result"
    }
   ],
   "source": [
    "new_list[-2]"
   ]
  },
  {
   "cell_type": "code",
   "execution_count": 73,
   "metadata": {},
   "outputs": [
    {
     "data": {
      "text/plain": [
       "5"
      ]
     },
     "execution_count": 73,
     "metadata": {},
     "output_type": "execute_result"
    }
   ],
   "source": [
    "new_list[-3]"
   ]
  },
  {
   "cell_type": "code",
   "execution_count": 75,
   "metadata": {},
   "outputs": [
    {
     "data": {
      "text/plain": [
       "3"
      ]
     },
     "execution_count": 75,
     "metadata": {},
     "output_type": "execute_result"
    }
   ],
   "source": [
    "len(new_list) #len gives you the length of the list."
   ]
  },
  {
   "cell_type": "code",
   "execution_count": 78,
   "metadata": {},
   "outputs": [
    {
     "data": {
      "text/plain": [
       "5"
      ]
     },
     "execution_count": 78,
     "metadata": {},
     "output_type": "execute_result"
    }
   ],
   "source": [
    "len([1,2,3,5,8])"
   ]
  },
  {
   "cell_type": "markdown",
   "metadata": {},
   "source": [
    "# lists + while loops"
   ]
  },
  {
   "cell_type": "code",
   "execution_count": 80,
   "metadata": {},
   "outputs": [
    {
     "name": "stdout",
     "output_type": "stream",
     "text": [
      "value in list 5\n",
      "counter value 0\n",
      "value in list 6\n",
      "counter value 1\n",
      "value in list 71\n",
      "counter value 2\n",
      "value in list 23\n",
      "counter value 3\n",
      "value in list 7\n",
      "counter value 4\n",
      "value in list 8\n",
      "counter value 5\n",
      "value in list 1\n",
      "counter value 6\n",
      "value in list 2\n",
      "counter value 7\n"
     ]
    }
   ],
   "source": [
    "counter = 0\n",
    "listing = [5,6,71,23,7,8,1,2]\n",
    "while counter < len(listing):\n",
    "    print(\"value in list\", listing[counter])\n",
    "    print(\"counter value\", counter)\n",
    "    counter += 1"
   ]
  },
  {
   "cell_type": "code",
   "execution_count": 84,
   "metadata": {},
   "outputs": [
    {
     "name": "stdout",
     "output_type": "stream",
     "text": [
      "index, 0  value 5\n",
      "index, 1  value 6\n",
      "index, 2  value 71\n",
      "index, 3  value 23\n",
      "index, 4  value 7\n",
      "index, 5  value 8\n",
      "index, 6  value 1\n",
      "index, 7  value 2\n"
     ]
    }
   ],
   "source": [
    "counter = 0\n",
    "listing = [5,6,71,23,7,8,1,2]\n",
    "while counter < len(listing):\n",
    "    print(\"index,\",counter, \" value\", listing[counter])\n",
    "    counter += 1"
   ]
  },
  {
   "cell_type": "code",
   "execution_count": 85,
   "metadata": {},
   "outputs": [
    {
     "name": "stdout",
     "output_type": "stream",
     "text": [
      "index, 0  value before 5 value after 10\n",
      "index, 1  value before 6 value after 11\n",
      "index, 2  value before 71 value after 76\n",
      "index, 3  value before 23 value after 28\n",
      "index, 4  value before 7 value after 12\n",
      "index, 5  value before 8 value after 13\n",
      "index, 6  value before 1 value after 6\n",
      "index, 7  value before 2 value after 7\n"
     ]
    }
   ],
   "source": [
    "counter = 0\n",
    "listing = [5,6,71,23,7,8,1,2]\n",
    "while counter < len(listing):\n",
    "    before = listing[counter]\n",
    "    listing[counter] += 5\n",
    "    after = listing[counter]\n",
    "    print(\"index,\",counter, \" value before\", before, \"value after\", after)\n",
    "    counter += 1"
   ]
  },
  {
   "cell_type": "code",
   "execution_count": 86,
   "metadata": {},
   "outputs": [
    {
     "data": {
      "text/plain": [
       "[10, 11, 76, 28, 12, 13, 6, 7]"
      ]
     },
     "execution_count": 86,
     "metadata": {},
     "output_type": "execute_result"
    }
   ],
   "source": [
    "listing"
   ]
  },
  {
   "cell_type": "code",
   "execution_count": 91,
   "metadata": {},
   "outputs": [
    {
     "name": "stdout",
     "output_type": "stream",
     "text": [
      "['A', 'B', 'D', 'Rhino']\n"
     ]
    }
   ],
   "source": [
    "# capitalize is a method on a string.\n",
    "# a method is like a function.\n",
    "listing = [\"A\", \"b\", \"d\", \"rhino\"]\n",
    "counter = 0\n",
    "while counter < len(listing):\n",
    "    listing[counter] = listing[counter].capitalize()\n",
    "    counter += 1\n",
    "print(listing)"
   ]
  },
  {
   "cell_type": "code",
   "execution_count": 92,
   "metadata": {},
   "outputs": [
    {
     "name": "stdout",
     "output_type": "stream",
     "text": [
      "['a', 'b', 'd', 'rhino']\n"
     ]
    }
   ],
   "source": [
    "listing = [\"A\", \"b\", \"d\", \"rhino\"]\n",
    "counter = 0\n",
    "while counter < len(listing):\n",
    "    listing[counter] = listing[counter].lower()\n",
    "    counter += 1\n",
    "print(listing)"
   ]
  },
  {
   "cell_type": "code",
   "execution_count": 93,
   "metadata": {},
   "outputs": [
    {
     "name": "stdout",
     "output_type": "stream",
     "text": [
      "['A', 'B', 'D', 'RHINO']\n"
     ]
    }
   ],
   "source": [
    "listing = [\"A\", \"b\", \"d\", \"rhino\"]\n",
    "counter = 0\n",
    "while counter < len(listing):\n",
    "    listing[counter] = listing[counter].upper()\n",
    "    counter += 1\n",
    "print(listing)"
   ]
  },
  {
   "cell_type": "markdown",
   "metadata": {},
   "source": [
    "# For loops, while + lists done the typical way"
   ]
  },
  {
   "cell_type": "code",
   "execution_count": 94,
   "metadata": {},
   "outputs": [
    {
     "name": "stdout",
     "output_type": "stream",
     "text": [
      "0\n",
      "1\n",
      "2\n",
      "3\n",
      "4\n",
      "5\n"
     ]
    }
   ],
   "source": [
    "counter = 0\n",
    "listing = [0,1,2,3,4,5]\n",
    "while counter < len(listing):\n",
    "    print(listing[counter])\n",
    "    counter += 1"
   ]
  },
  {
   "cell_type": "code",
   "execution_count": 95,
   "metadata": {},
   "outputs": [
    {
     "name": "stdout",
     "output_type": "stream",
     "text": [
      "0\n",
      "1\n",
      "2\n",
      "3\n",
      "4\n",
      "5\n"
     ]
    }
   ],
   "source": [
    "# there is an implicit counter variable here, that iterates through the list.\n",
    "listing = [0,1,2,3,4,5]\n",
    "for value in listing:\n",
    "    print(value)"
   ]
  },
  {
   "cell_type": "markdown",
   "metadata": {},
   "source": [
    "inclusive means from the start to the end without any gaps.  With programming we are usually talking about the natural numbers, so for lists, inclusive means from a start natural number to an end natural number, with no \"missing\" natural numbers in between."
   ]
  },
  {
   "cell_type": "code",
   "execution_count": 96,
   "metadata": {},
   "outputs": [
    {
     "data": {
      "text/plain": [
       "[0, 1, 2, 3, 4, 5, 6, 7, 8, 9, 10]"
      ]
     },
     "execution_count": 96,
     "metadata": {},
     "output_type": "execute_result"
    }
   ],
   "source": [
    "# this is an example of an \"inclusive\" list from 0 to 10.\n",
    "[0,1,2,3,4,5,6,7,8,9,10]"
   ]
  },
  {
   "cell_type": "code",
   "execution_count": 100,
   "metadata": {},
   "outputs": [
    {
     "name": "stdout",
     "output_type": "stream",
     "text": [
      "0\n",
      "1\n",
      "2\n",
      "3\n",
      "4\n",
      "5\n"
     ]
    }
   ],
   "source": [
    "listing = [0,1,2,3,4,5]\n",
    "for value in listing:\n",
    "    print(value)"
   ]
  },
  {
   "cell_type": "code",
   "execution_count": 101,
   "metadata": {},
   "outputs": [
    {
     "name": "stdout",
     "output_type": "stream",
     "text": [
      "0\n",
      "1\n",
      "2\n",
      "3\n",
      "4\n",
      "5\n"
     ]
    }
   ],
   "source": [
    "# range goes up until the last number, but doesn't include it.\n",
    "for value in range(0, 6):\n",
    "    print(value)"
   ]
  },
  {
   "cell_type": "code",
   "execution_count": 102,
   "metadata": {},
   "outputs": [
    {
     "data": {
      "text/plain": [
       "[0, 1, 2, 3, 4, 5]"
      ]
     },
     "execution_count": 102,
     "metadata": {},
     "output_type": "execute_result"
    }
   ],
   "source": [
    "list(range(0, 6))"
   ]
  },
  {
   "cell_type": "code",
   "execution_count": 103,
   "metadata": {},
   "outputs": [
    {
     "data": {
      "text/plain": [
       "range(0, 6)"
      ]
     },
     "execution_count": 103,
     "metadata": {},
     "output_type": "execute_result"
    }
   ],
   "source": [
    "range(0, 6)"
   ]
  },
  {
   "cell_type": "code",
   "execution_count": null,
   "metadata": {},
   "outputs": [],
   "source": [
    "# if you wanna run the homework\n",
    "! python -m pip install pytest\n",
    "! cd ../homework_and_solutions\n",
    "! python -m pytest test_homework_one.py\n",
    "# getting started with pytest - https://docs.pytest.org/en/stable/"
   ]
  },
  {
   "cell_type": "markdown",
   "metadata": {},
   "source": [
    "# list comprehensions"
   ]
  },
  {
   "cell_type": "code",
   "execution_count": 107,
   "metadata": {},
   "outputs": [
    {
     "name": "stdout",
     "output_type": "stream",
     "text": [
      "[1, 7]\n",
      "[1, 7, 9]\n",
      "[7, 9]\n"
     ]
    }
   ],
   "source": [
    "listing = []\n",
    "listing.append(1)\n",
    "listing.append(7)\n",
    "print(listing)\n",
    "listing.append(9)\n",
    "print(listing)\n",
    "listing.remove(1)\n",
    "print(listing)"
   ]
  },
  {
   "cell_type": "code",
   "execution_count": 112,
   "metadata": {},
   "outputs": [
    {
     "name": "stdout",
     "output_type": "stream",
     "text": [
      "[1, 1, 1, 1, 1]\n",
      "[1, 1, 1, 1]\n",
      "[1, 1, 1]\n",
      "[1, 1]\n",
      "[1]\n",
      "[]\n"
     ]
    }
   ],
   "source": [
    "listing = [1,1,1,1,1,1]\n",
    "listing.remove(1)\n",
    "print(listing)\n",
    "listing.remove(1)\n",
    "print(listing)\n",
    "listing.remove(1)\n",
    "print(listing)\n",
    "listing.remove(1)\n",
    "print(listing)\n",
    "listing.remove(1)\n",
    "print(listing)\n",
    "listing.remove(1)\n",
    "print(listing)"
   ]
  },
  {
   "cell_type": "code",
   "execution_count": 113,
   "metadata": {},
   "outputs": [
    {
     "name": "stdout",
     "output_type": "stream",
     "text": [
      "[1]\n",
      "[1, 2]\n",
      "[1, 2, 9]\n"
     ]
    }
   ],
   "source": [
    "listing = []\n",
    "listing.append(1)\n",
    "print(listing)\n",
    "listing.append(2)\n",
    "print(listing)\n",
    "listing.append(9)\n",
    "print(listing)"
   ]
  },
  {
   "cell_type": "code",
   "execution_count": 106,
   "metadata": {},
   "outputs": [
    {
     "data": {
      "text/plain": [
       "[0, 1, 3, 5, 7, 9]"
      ]
     },
     "execution_count": 106,
     "metadata": {},
     "output_type": "execute_result"
    }
   ],
   "source": [
    "listing = []\n",
    "previous_value = 0\n",
    "for value in range(0, 6):\n",
    "    listing.append(value+previous_value)\n",
    "    previous_value = value\n",
    "listing"
   ]
  },
  {
   "cell_type": "code",
   "execution_count": 114,
   "metadata": {},
   "outputs": [
    {
     "data": {
      "text/plain": [
       "[0, 1, 2, 3, 4, 5]"
      ]
     },
     "execution_count": 114,
     "metadata": {},
     "output_type": "execute_result"
    }
   ],
   "source": [
    "listing = []\n",
    "for value in range(0, 6):\n",
    "    listing.append(value)\n",
    "listing"
   ]
  },
  {
   "cell_type": "code",
   "execution_count": 116,
   "metadata": {},
   "outputs": [
    {
     "data": {
      "text/plain": [
       "True"
      ]
     },
     "execution_count": 116,
     "metadata": {},
     "output_type": "execute_result"
    }
   ],
   "source": [
    "[0,1,2,3,4,5] == [element for element in range(0, 6)]"
   ]
  },
  {
   "cell_type": "code",
   "execution_count": 119,
   "metadata": {},
   "outputs": [
    {
     "name": "stdout",
     "output_type": "stream",
     "text": [
      "[0, 1, 2, 3, 4, 5, 6, 7, 8, 9, 8]\n"
     ]
    },
    {
     "data": {
      "text/plain": [
       "[0, 1, 2, 3, 4, 5, 6, 7, 9, 8]"
      ]
     },
     "execution_count": 119,
     "metadata": {},
     "output_type": "execute_result"
    }
   ],
   "source": [
    "listing = list(range(0, 10))\n",
    "listing.append(8)\n",
    "print(listing)\n",
    "listing.remove(8)\n",
    "listing"
   ]
  },
  {
   "cell_type": "code",
   "execution_count": 123,
   "metadata": {},
   "outputs": [
    {
     "data": {
      "text/plain": [
       "[0, 2, 4, 6, 8]"
      ]
     },
     "execution_count": 123,
     "metadata": {},
     "output_type": "execute_result"
    }
   ],
   "source": [
    "# this is called filtering your list comprehension\n",
    "[value for value in range(0, 10) if value % 2 == 0]"
   ]
  },
  {
   "cell_type": "code",
   "execution_count": 124,
   "metadata": {},
   "outputs": [
    {
     "data": {
      "text/plain": [
       "[0, 2, 4, 6, 8]"
      ]
     },
     "execution_count": 124,
     "metadata": {},
     "output_type": "execute_result"
    }
   ],
   "source": [
    "listing = []\n",
    "for value in range(0, 10):\n",
    "    if value % 2 == 0:\n",
    "        listing.append(value)\n",
    "listing"
   ]
  },
  {
   "cell_type": "code",
   "execution_count": 125,
   "metadata": {},
   "outputs": [
    {
     "ename": "NameError",
     "evalue": "name 'value' is not defined",
     "output_type": "error",
     "traceback": [
      "\u001b[0;31m---------------------------------------------------------------------------\u001b[0m",
      "\u001b[0;31mNameError\u001b[0m                                 Traceback (most recent call last)",
      "\u001b[0;32m<ipython-input-125-299dbabfadad>\u001b[0m in \u001b[0;36m<module>\u001b[0;34m\u001b[0m\n\u001b[1;32m      1\u001b[0m \u001b[0;32mdel\u001b[0m \u001b[0mvalue\u001b[0m\u001b[0;34m\u001b[0m\u001b[0;34m\u001b[0m\u001b[0m\n\u001b[0;32m----> 2\u001b[0;31m \u001b[0;34m[\u001b[0m\u001b[0mvalue\u001b[0m \u001b[0;32mfor\u001b[0m \u001b[0mx\u001b[0m \u001b[0;32min\u001b[0m \u001b[0mrange\u001b[0m\u001b[0;34m(\u001b[0m\u001b[0;36m0\u001b[0m\u001b[0;34m,\u001b[0m \u001b[0;36m10\u001b[0m\u001b[0;34m)\u001b[0m\u001b[0;34m]\u001b[0m\u001b[0;34m\u001b[0m\u001b[0;34m\u001b[0m\u001b[0m\n\u001b[0m",
      "\u001b[0;32m<ipython-input-125-299dbabfadad>\u001b[0m in \u001b[0;36m<listcomp>\u001b[0;34m(.0)\u001b[0m\n\u001b[1;32m      1\u001b[0m \u001b[0;32mdel\u001b[0m \u001b[0mvalue\u001b[0m\u001b[0;34m\u001b[0m\u001b[0;34m\u001b[0m\u001b[0m\n\u001b[0;32m----> 2\u001b[0;31m \u001b[0;34m[\u001b[0m\u001b[0mvalue\u001b[0m \u001b[0;32mfor\u001b[0m \u001b[0mx\u001b[0m \u001b[0;32min\u001b[0m \u001b[0mrange\u001b[0m\u001b[0;34m(\u001b[0m\u001b[0;36m0\u001b[0m\u001b[0;34m,\u001b[0m \u001b[0;36m10\u001b[0m\u001b[0;34m)\u001b[0m\u001b[0;34m]\u001b[0m\u001b[0;34m\u001b[0m\u001b[0;34m\u001b[0m\u001b[0m\n\u001b[0m",
      "\u001b[0;31mNameError\u001b[0m: name 'value' is not defined"
     ]
    }
   ],
   "source": [
    "[value for x in range(0, 10)]"
   ]
  },
  {
   "cell_type": "markdown",
   "metadata": {},
   "source": [
    "# Dictionaries"
   ]
  },
  {
   "cell_type": "code",
   "execution_count": 126,
   "metadata": {},
   "outputs": [
    {
     "data": {
      "text/plain": [
       "1"
      ]
     },
     "execution_count": 126,
     "metadata": {},
     "output_type": "execute_result"
    }
   ],
   "source": [
    "dicter = {\"one\": 1, \"two\": 2}\n",
    "dicter[\"one\"]"
   ]
  },
  {
   "cell_type": "code",
   "execution_count": 128,
   "metadata": {},
   "outputs": [
    {
     "data": {
      "text/plain": [
       "False"
      ]
     },
     "execution_count": 128,
     "metadata": {},
     "output_type": "execute_result"
    }
   ],
   "source": [
    "dicter = {\"1\": 1, \"2\": 2}\n",
    "dicter[\"1\"] == \"1\""
   ]
  },
  {
   "cell_type": "markdown",
   "metadata": {},
   "source": [
    "dictionaries have _explicit_ indexes called keys.  And lists have one unique _implicit_ index, the natural numbers.  You must always specify the keys, or index in a dictionary.  \n",
    "\n",
    "In dictionaries the values are the same as the elements of a list."
   ]
  },
  {
   "cell_type": "code",
   "execution_count": 130,
   "metadata": {},
   "outputs": [
    {
     "name": "stdout",
     "output_type": "stream",
     "text": [
      "1\n",
      "1\n"
     ]
    }
   ],
   "source": [
    "listing = [1]\n",
    "print(listing[0])\n",
    "\n",
    "dicter = {0: 1}\n",
    "print(dicter[0])"
   ]
  },
  {
   "cell_type": "code",
   "execution_count": 131,
   "metadata": {},
   "outputs": [
    {
     "name": "stdout",
     "output_type": "stream",
     "text": [
      "True\n",
      "True\n"
     ]
    }
   ],
   "source": [
    "listing = [0,1,2]\n",
    "dicter= {0: 0, 1:1, 2:2}\n",
    "print(listing[0] == dicter[0])\n",
    "print(listing[2] == dicter[2])"
   ]
  },
  {
   "cell_type": "code",
   "execution_count": 134,
   "metadata": {},
   "outputs": [
    {
     "name": "stdout",
     "output_type": "stream",
     "text": [
      "0\n",
      "2\n"
     ]
    }
   ],
   "source": [
    "dicter = {5:0, 2:1, \"narf\": 2}\n",
    "print(dicter[5])\n",
    "print(dicter[\"narf\"])"
   ]
  },
  {
   "cell_type": "markdown",
   "metadata": {},
   "source": [
    "You can only use indexes to get the values.  You cannot use the values to get the indexes."
   ]
  },
  {
   "cell_type": "markdown",
   "metadata": {},
   "source": [
    "# dictionary comprehension"
   ]
  },
  {
   "cell_type": "markdown",
   "metadata": {},
   "source": [
    "A dictionary comprehension is similar to a list comprehension in the way that a list is similar to a dictionary"
   ]
  },
  {
   "cell_type": "code",
   "execution_count": 135,
   "metadata": {},
   "outputs": [
    {
     "data": {
      "text/plain": [
       "{0: 0, 1: 2, 2: 4, 3: 6, 4: 8, 5: 10, 6: 12, 7: 14, 8: 16, 9: 18}"
      ]
     },
     "execution_count": 135,
     "metadata": {},
     "output_type": "execute_result"
    }
   ],
   "source": [
    "dicter = {}\n",
    "for value in range(0, 10):\n",
    "    dicter[value] = value *2\n",
    "dicter"
   ]
  },
  {
   "cell_type": "code",
   "execution_count": 136,
   "metadata": {},
   "outputs": [
    {
     "data": {
      "text/plain": [
       "{0: 0, 1: 2, 2: 4, 3: 6, 4: 8, 5: 10, 6: 12, 7: 14, 8: 16, 9: 18}"
      ]
     },
     "execution_count": 136,
     "metadata": {},
     "output_type": "execute_result"
    }
   ],
   "source": [
    "dicter = {value: value * 2 for value in range(0, 10)}\n",
    "dicter"
   ]
  },
  {
   "cell_type": "code",
   "execution_count": 137,
   "metadata": {},
   "outputs": [
    {
     "data": {
      "text/plain": [
       "{0: 0, 2: 4, 4: 8, 6: 12, 8: 16}"
      ]
     },
     "execution_count": 137,
     "metadata": {},
     "output_type": "execute_result"
    }
   ],
   "source": [
    "dicter = {}\n",
    "for value in range(0, 10):\n",
    "    if value % 2 == 0:\n",
    "        dicter[value] = value *2\n",
    "dicter"
   ]
  },
  {
   "cell_type": "code",
   "execution_count": 138,
   "metadata": {},
   "outputs": [
    {
     "data": {
      "text/plain": [
       "{0: 0, 2: 4, 4: 8, 6: 12, 8: 16}"
      ]
     },
     "execution_count": 138,
     "metadata": {},
     "output_type": "execute_result"
    }
   ],
   "source": [
    "dicter = {value: value * 2 for value in range(0, 10) if value % 2 == 0}\n",
    "dicter"
   ]
  },
  {
   "cell_type": "code",
   "execution_count": 140,
   "metadata": {},
   "outputs": [
    {
     "data": {
      "text/plain": [
       "{0: 0, 2: 4, 4: 8, 6: 12, 8: 16}"
      ]
     },
     "execution_count": 140,
     "metadata": {},
     "output_type": "execute_result"
    }
   ],
   "source": [
    "dicter = {whatever: whatever * 2 for whatever in range(0, 10) if whatever % 2 == 0}\n",
    "dicter"
   ]
  },
  {
   "cell_type": "code",
   "execution_count": 142,
   "metadata": {},
   "outputs": [
    {
     "name": "stdout",
     "output_type": "stream",
     "text": [
      "0\n",
      "1\n",
      "2\n",
      "3\n",
      "4\n",
      "5\n",
      "6\n",
      "7\n",
      "8\n",
      "9\n"
     ]
    }
   ],
   "source": [
    "for whatever in range(0,10):\n",
    "    print(whatever)"
   ]
  },
  {
   "cell_type": "code",
   "execution_count": 143,
   "metadata": {},
   "outputs": [
    {
     "data": {
      "text/plain": [
       "9"
      ]
     },
     "execution_count": 143,
     "metadata": {},
     "output_type": "execute_result"
    }
   ],
   "source": [
    "whatever"
   ]
  },
  {
   "cell_type": "code",
   "execution_count": 144,
   "metadata": {},
   "outputs": [
    {
     "name": "stdout",
     "output_type": "stream",
     "text": [
      "0\n",
      "1\n",
      "2\n",
      "3\n",
      "4\n",
      "5\n",
      "6\n",
      "7\n",
      "8\n",
      "9\n"
     ]
    }
   ],
   "source": [
    "for bob in range(0, 10):\n",
    "    print(bob)"
   ]
  },
  {
   "cell_type": "markdown",
   "metadata": {},
   "source": [
    "When do you need to define variables?\n",
    "\n",
    "It depends!\n",
    "\n",
    "Never for loops, list comprehensions or dictionary comprehensions\n",
    "\n",
    "Always for while loops or other types of code."
   ]
  },
  {
   "cell_type": "markdown",
   "metadata": {},
   "source": [
    "# Sets"
   ]
  },
  {
   "cell_type": "code",
   "execution_count": 146,
   "metadata": {},
   "outputs": [
    {
     "name": "stdout",
     "output_type": "stream",
     "text": [
      "[1, 1, 1, 1, 1, 1, 1, 1, 1]\n"
     ]
    },
    {
     "data": {
      "text/plain": [
       "{1}"
      ]
     },
     "execution_count": 146,
     "metadata": {},
     "output_type": "execute_result"
    }
   ],
   "source": [
    "listing = [1,1,1,1,1,1,1,1,1]\n",
    "print(listing)\n",
    "set(listing)"
   ]
  },
  {
   "cell_type": "markdown",
   "metadata": {},
   "source": [
    "Sets comprise the unique elements of a list."
   ]
  },
  {
   "cell_type": "code",
   "execution_count": 147,
   "metadata": {},
   "outputs": [
    {
     "name": "stdout",
     "output_type": "stream",
     "text": [
      "[0, 1, 2, 3, 4, 5, 6, 7, 8, 9, 0, 1, 2]\n"
     ]
    },
    {
     "data": {
      "text/plain": [
       "{0, 1, 2, 3, 4, 5, 6, 7, 8, 9}"
      ]
     },
     "execution_count": 147,
     "metadata": {},
     "output_type": "execute_result"
    }
   ],
   "source": [
    "listing = list(range(0, 10)) + list(range(0, 3))\n",
    "print(listing)\n",
    "set(listing)"
   ]
  },
  {
   "cell_type": "code",
   "execution_count": 152,
   "metadata": {},
   "outputs": [
    {
     "data": {
      "text/plain": [
       "['add',\n",
       " 'clear',\n",
       " 'copy',\n",
       " 'difference',\n",
       " 'difference_update',\n",
       " 'discard',\n",
       " 'intersection',\n",
       " 'intersection_update',\n",
       " 'isdisjoint',\n",
       " 'issubset',\n",
       " 'issuperset',\n",
       " 'pop',\n",
       " 'remove',\n",
       " 'symmetric_difference',\n",
       " 'symmetric_difference_update',\n",
       " 'union',\n",
       " 'update']"
      ]
     },
     "execution_count": 152,
     "metadata": {},
     "output_type": "execute_result"
    }
   ],
   "source": [
    "set_of_elements = set(listing)\n",
    "[method for method in dir(set_of_elements) if \"__\" not in method]"
   ]
  },
  {
   "cell_type": "code",
   "execution_count": 151,
   "metadata": {},
   "outputs": [
    {
     "name": "stdout",
     "output_type": "stream",
     "text": [
      "{0, 2, 3, 4, 5, 6, 7, 8, 9}\n"
     ]
    }
   ],
   "source": [
    "set_of_elements = set(listing)\n",
    "set_of_elements.remove(1)\n",
    "print(set_of_elements)"
   ]
  },
  {
   "cell_type": "code",
   "execution_count": 153,
   "metadata": {},
   "outputs": [
    {
     "data": {
      "text/plain": [
       "{0, 1, 4}"
      ]
     },
     "execution_count": 153,
     "metadata": {},
     "output_type": "execute_result"
    }
   ],
   "source": [
    "list_one = [0,1,2,3]\n",
    "list_two = [2,3,4]\n",
    "\n",
    "set(list_one).symmetric_difference(list_two)"
   ]
  },
  {
   "cell_type": "markdown",
   "metadata": {},
   "source": [
    "## sorting"
   ]
  },
  {
   "cell_type": "code",
   "execution_count": 158,
   "metadata": {},
   "outputs": [
    {
     "data": {
      "text/plain": [
       "[10, 9, 8, 7, 6, 5, 4, 3, 2, 1]"
      ]
     },
     "execution_count": 158,
     "metadata": {},
     "output_type": "execute_result"
    }
   ],
   "source": [
    "list(range(10, 0, -1))\n",
    "# third parameter to range is called the step \n",
    "# and determines how much to increase or decrease"
   ]
  },
  {
   "cell_type": "code",
   "execution_count": 159,
   "metadata": {},
   "outputs": [
    {
     "name": "stdout",
     "output_type": "stream",
     "text": [
      "[10, 9, 8, 7, 6, 5, 4, 3, 2, 1]\n",
      "[1, 2, 3, 4, 5, 6, 7, 8, 9, 10]\n"
     ]
    }
   ],
   "source": [
    "listing = list(range(10, 0, -1))\n",
    "print(listing)\n",
    "listing.sort()\n",
    "print(listing)"
   ]
  },
  {
   "cell_type": "code",
   "execution_count": 160,
   "metadata": {},
   "outputs": [
    {
     "data": {
      "text/plain": [
       "[]"
      ]
     },
     "execution_count": 160,
     "metadata": {},
     "output_type": "execute_result"
    }
   ],
   "source": [
    "list(range(0, 10, -1))"
   ]
  },
  {
   "cell_type": "code",
   "execution_count": 161,
   "metadata": {},
   "outputs": [
    {
     "name": "stdout",
     "output_type": "stream",
     "text": [
      "0\n",
      "1\n",
      "2\n",
      "3\n",
      "4\n",
      "5\n",
      "6\n",
      "7\n",
      "8\n",
      "9\n"
     ]
    }
   ],
   "source": [
    "for value in range(0, 10):\n",
    "    print(value)"
   ]
  },
  {
   "cell_type": "code",
   "execution_count": 163,
   "metadata": {},
   "outputs": [
    {
     "name": "stdout",
     "output_type": "stream",
     "text": [
      "0\n",
      "1\n",
      "2\n",
      "3\n",
      "4\n",
      "5\n",
      "6\n",
      "7\n",
      "8\n",
      "9\n"
     ]
    }
   ],
   "source": [
    "counter = 0\n",
    "while counter < 10:\n",
    "    print(counter)\n",
    "    counter += 1"
   ]
  },
  {
   "cell_type": "code",
   "execution_count": null,
   "metadata": {},
   "outputs": [],
   "source": []
  }
 ],
 "metadata": {
  "kernelspec": {
   "display_name": "Python 3",
   "language": "python",
   "name": "python3"
  },
  "language_info": {
   "codemirror_mode": {
    "name": "ipython",
    "version": 3
   },
   "file_extension": ".py",
   "mimetype": "text/x-python",
   "name": "python",
   "nbconvert_exporter": "python",
   "pygments_lexer": "ipython3",
   "version": "3.7.9"
  }
 },
 "nbformat": 4,
 "nbformat_minor": 4
}
